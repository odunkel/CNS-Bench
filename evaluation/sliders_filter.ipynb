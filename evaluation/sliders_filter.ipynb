{
 "cells": [
  {
   "cell_type": "code",
   "execution_count": null,
   "metadata": {},
   "outputs": [],
   "source": [
    "%load_ext autoreload\n",
    "%autoreload 2"
   ]
  },
  {
   "cell_type": "code",
   "execution_count": null,
   "metadata": {},
   "outputs": [],
   "source": [
    "from results_aggregator import ResultsAggregator\n",
    "from metrics_computer import EvalFilter"
   ]
  },
  {
   "cell_type": "markdown",
   "metadata": {},
   "source": [
    "## Load data"
   ]
  },
  {
   "cell_type": "code",
   "execution_count": null,
   "metadata": {},
   "outputs": [],
   "source": [
    "res_agg = ResultsAggregator()\n",
    "exp_dir_eval=f\"../generation/results/shifts/eval\"\n",
    "exp_ids = [0,]\n",
    "df_res = res_agg.load_evaluation_results(exp_dir_eval, exp_ids)\n",
    "classifiers = df_res['classifier'].unique()\n",
    "df_delt = res_agg.compute_delta_quantity_to_ref(df_res, quantity_to_delta='CLIP_shift', new_col_name='delta_clip_shift', ref_col_name='var_1', groupby=['i_class', 'seed', 'exp_id','var_2'],negate=False)\n",
    "df_delt = res_agg.compute_delta_quantity_to_ref(df_delt, quantity_to_delta='CLIP_class_shift', new_col_name='delta_clip_class_in_shift', ref_col_name='var_1', groupby=['i_class', 'seed', 'exp_id','var_2'],negate=False)\n",
    "df_delt = res_agg.compute_delta_quantity_to_ref(df_delt, quantity_to_delta='CLIP_class', new_col_name='delta_clip_class', ref_col_name='var_1', groupby=['i_class', 'seed', 'exp_id','var_2',],negate=False)\n",
    "df_delt.head(3)"
   ]
  },
  {
   "cell_type": "markdown",
   "metadata": {},
   "source": [
    "# Filtering"
   ]
  },
  {
   "cell_type": "code",
   "execution_count": null,
   "metadata": {},
   "outputs": [],
   "source": [
    "# Thresholds computed on the filtering dataset to remove 90% of the OOC samples.\n",
    "quantile_ths = {'CLIP_class': 28.7394449, 'CLIP_ref': 0.805859378, 'CLIP_class_shift': 35.292848400000004, 'DINO_ref_no_head': 0.7811618779999999}\n",
    "\n",
    "\n",
    "exp_id = 0\n",
    "df_e = df_delt[df_delt['exp_id']==exp_id]\n",
    "m_ic = EvalFilter.filter_k_out_of_n(df_e,quantile_ths=quantile_ths)\n",
    "df_e = df_e[m_ic]\n",
    "df_e = df_e.groupby(['exp_id','i_class','seed']).filter(lambda x: len(x) == 6)\n",
    "print('Took only complete sliding trajectories. Remaining images:', len(df_e))\n",
    "df_e.to_csv(f'../generation/results/shifts/filtered/eval_id_{exp_id:04d}.csv')"
   ]
  }
 ],
 "metadata": {
  "kernelspec": {
   "display_name": "at2",
   "language": "python",
   "name": "python3"
  },
  "language_info": {
   "codemirror_mode": {
    "name": "ipython",
    "version": 3
   },
   "file_extension": ".py",
   "mimetype": "text/x-python",
   "name": "python",
   "nbconvert_exporter": "python",
   "pygments_lexer": "ipython3",
   "version": "3.1.-1"
  }
 },
 "nbformat": 4,
 "nbformat_minor": 2
}
